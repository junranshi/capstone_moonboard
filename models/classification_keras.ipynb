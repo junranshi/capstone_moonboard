{
  "nbformat": 4,
  "nbformat_minor": 0,
  "metadata": {
    "colab": {
      "provenance": [],
      "authorship_tag": "ABX9TyMp+5FDhWIX5JS3IoSsbrAX",
      "include_colab_link": true
    },
    "kernelspec": {
      "name": "python3",
      "display_name": "Python 3"
    },
    "language_info": {
      "name": "python"
    }
  },
  "cells": [
    {
      "cell_type": "markdown",
      "metadata": {
        "id": "view-in-github",
        "colab_type": "text"
      },
      "source": [
        "<a href=\"https://colab.research.google.com/github/junranshi/capstone_moonboard/blob/main/classification_keras.ipynb\" target=\"_parent\"><img src=\"https://colab.research.google.com/assets/colab-badge.svg\" alt=\"Open In Colab\"/></a>"
      ]
    },
    {
      "cell_type": "code",
      "execution_count": 1,
      "metadata": {
        "colab": {
          "base_uri": "https://localhost:8080/"
        },
        "id": "9PNmUQOStWO0",
        "outputId": "7c57e754-e43f-4fb7-9dab-1cfe60a06e33"
      },
      "outputs": [
        {
          "output_type": "stream",
          "name": "stdout",
          "text": [
            "Cloning into 'capstone_moonboard'...\n",
            "remote: Enumerating objects: 104, done.\u001b[K\n",
            "remote: Counting objects: 100% (104/104), done.\u001b[K\n",
            "remote: Compressing objects: 100% (81/81), done.\u001b[K\n",
            "remote: Total 104 (delta 37), reused 77 (delta 20), pack-reused 0\u001b[K\n",
            "Receiving objects: 100% (104/104), 19.91 MiB | 23.20 MiB/s, done.\n",
            "Resolving deltas: 100% (37/37), done.\n"
          ]
        }
      ],
      "source": [
        "!git clone https://github.com/junranshi/capstone_moonboard.git"
      ]
    },
    {
      "cell_type": "code",
      "source": [
        "%cd /content/capstone_moonboard\n",
        "!git pull"
      ],
      "metadata": {
        "id": "Udy3rokBtWgO"
      },
      "execution_count": null,
      "outputs": []
    },
    {
      "cell_type": "code",
      "source": [
        "import pandas as pd\n",
        "import sys\n",
        "import os\n",
        "import pickle\n",
        "\n",
        "py_file_location = \"/content/capstone_moonboard/data\"\n",
        "sys.path.append(os.path.abspath(py_file_location))\n",
        "with open('/content/capstone_moonboard/data/cleaned.p', 'rb') as f:\n",
        "    mb_2016 = pickle.load(f)"
      ],
      "metadata": {
        "id": "iW2rPesmtYr6"
      },
      "execution_count": 3,
      "outputs": []
    },
    {
      "cell_type": "code",
      "source": [],
      "metadata": {
        "id": "8gKggc1qtbVh"
      },
      "execution_count": null,
      "outputs": []
    }
  ]
}