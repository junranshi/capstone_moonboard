{
 "cells": [
  {
   "cell_type": "code",
   "execution_count": 1,
   "id": "1c0e50f7",
   "metadata": {},
   "outputs": [],
   "source": [
    "import sys\n",
    "sys.path.append('/Users/junran/Desktop/capstone_moonboard/data')\n",
    "\n",
    "from sklearn.model_selection import train_test_split\n",
    "from sklearn.linear_model import LogisticRegression\n",
    "from sklearn.naive_bayes import GaussianNB\n",
    "from sklearn.ensemble import RandomForestClassifier\n",
    "from sklearn.ensemble import HistGradientBoostingClassifier\n",
    "\n",
    "from sklearn.neural_network import MLPClassifier\n",
    "from sklearn.metrics import confusion_matrix, classification_report\n",
    "from sklearn.model_selection import KFold, cross_val_score, cross_val_predict\n",
    "import seaborn as sns"
   ]
  },
  {
   "cell_type": "code",
   "execution_count": 2,
   "id": "f3bed2ec",
   "metadata": {},
   "outputs": [
    {
     "name": "stdout",
     "output_type": "stream",
     "text": [
      "Number of routes after scraping: 30642\n",
      "Number of routes after cleaning: 25099\n"
     ]
    }
   ],
   "source": [
    "from preprocessing import *\n",
    "from helper import *"
   ]
  },
  {
   "cell_type": "code",
   "execution_count": 3,
   "id": "bda21702",
   "metadata": {},
   "outputs": [
    {
     "data": {
      "text/plain": [
       "1310808"
      ]
     },
     "execution_count": 3,
     "metadata": {},
     "output_type": "execute_result"
    }
   ],
   "source": [
    "sys.getsizeof(mb_2016)"
   ]
  },
  {
   "cell_type": "code",
   "execution_count": 28,
   "id": "993a175e",
   "metadata": {},
   "outputs": [],
   "source": [
    "import random\n",
    "samples = {}\n",
    "\n",
    "for item in random.sample(list(mb_2016.items()), 25000):\n",
    "    samples[item[0]] = item[1]"
   ]
  },
  {
   "cell_type": "code",
   "execution_count": 7,
   "id": "a69e3daa",
   "metadata": {},
   "outputs": [],
   "source": [
    "sample_matrices = get_matrices(samples, ['start','mid','end'])[0]"
   ]
  },
  {
   "cell_type": "code",
   "execution_count": 8,
   "id": "1e646bd0",
   "metadata": {},
   "outputs": [
    {
     "name": "stdout",
     "output_type": "stream",
     "text": [
      "25000\n"
     ]
    }
   ],
   "source": [
    "print(len(sample_matrices))"
   ]
  },
  {
   "cell_type": "code",
   "execution_count": 9,
   "id": "711478ce",
   "metadata": {},
   "outputs": [],
   "source": [
    "# reshaped\n",
    "sample_vectors = {}\n",
    "for i in sample_matrices:\n",
    "    sample_vectors[i] = np.array(sample_matrices[i]).reshape(1, 198)"
   ]
  },
  {
   "cell_type": "code",
   "execution_count": 10,
   "id": "9b25d61f",
   "metadata": {},
   "outputs": [],
   "source": [
    "sample_grades = {}\n",
    "for key in samples:\n",
    "    sample_grades[key] = mb_2016[key]['grade']"
   ]
  },
  {
   "cell_type": "code",
   "execution_count": 11,
   "id": "788e7f27",
   "metadata": {},
   "outputs": [],
   "source": [
    "sample_grades_list = list(sample_grades.values())\n",
    "sample_vectors_list = list(sample_vectors.values())\n",
    "\n",
    "sample_data = []\n",
    "\n",
    "for i in range(len(sample_grades_list)):\n",
    "    sample_data.append([])\n",
    "    \n",
    "    vector = sample_vectors_list[i][0]\n",
    "    grade = sample_grades_list[i]\n",
    "    for j in range(11*18):\n",
    "        sample_data[i].append(vector[j])\n",
    "    sample_data[i].append(grade)"
   ]
  },
  {
   "cell_type": "code",
   "execution_count": 12,
   "id": "df07c4ff",
   "metadata": {},
   "outputs": [
    {
     "data": {
      "text/html": [
       "<div>\n",
       "<style scoped>\n",
       "    .dataframe tbody tr th:only-of-type {\n",
       "        vertical-align: middle;\n",
       "    }\n",
       "\n",
       "    .dataframe tbody tr th {\n",
       "        vertical-align: top;\n",
       "    }\n",
       "\n",
       "    .dataframe thead th {\n",
       "        text-align: right;\n",
       "    }\n",
       "</style>\n",
       "<table border=\"1\" class=\"dataframe\">\n",
       "  <thead>\n",
       "    <tr style=\"text-align: right;\">\n",
       "      <th></th>\n",
       "      <th>0</th>\n",
       "      <th>1</th>\n",
       "      <th>2</th>\n",
       "      <th>3</th>\n",
       "      <th>4</th>\n",
       "      <th>5</th>\n",
       "      <th>6</th>\n",
       "      <th>7</th>\n",
       "      <th>8</th>\n",
       "      <th>9</th>\n",
       "      <th>...</th>\n",
       "      <th>189</th>\n",
       "      <th>190</th>\n",
       "      <th>191</th>\n",
       "      <th>192</th>\n",
       "      <th>193</th>\n",
       "      <th>194</th>\n",
       "      <th>195</th>\n",
       "      <th>196</th>\n",
       "      <th>197</th>\n",
       "      <th>198</th>\n",
       "    </tr>\n",
       "  </thead>\n",
       "  <tbody>\n",
       "    <tr>\n",
       "      <th>0</th>\n",
       "      <td>0.0</td>\n",
       "      <td>0.0</td>\n",
       "      <td>0.0</td>\n",
       "      <td>0.0</td>\n",
       "      <td>0.0</td>\n",
       "      <td>0.0</td>\n",
       "      <td>0.0</td>\n",
       "      <td>0.0</td>\n",
       "      <td>1.0</td>\n",
       "      <td>0.0</td>\n",
       "      <td>...</td>\n",
       "      <td>0.0</td>\n",
       "      <td>0.0</td>\n",
       "      <td>0.0</td>\n",
       "      <td>0.0</td>\n",
       "      <td>0.0</td>\n",
       "      <td>0.0</td>\n",
       "      <td>0.0</td>\n",
       "      <td>0.0</td>\n",
       "      <td>0.0</td>\n",
       "      <td>1</td>\n",
       "    </tr>\n",
       "    <tr>\n",
       "      <th>1</th>\n",
       "      <td>0.0</td>\n",
       "      <td>0.0</td>\n",
       "      <td>0.0</td>\n",
       "      <td>0.0</td>\n",
       "      <td>1.0</td>\n",
       "      <td>0.0</td>\n",
       "      <td>0.0</td>\n",
       "      <td>0.0</td>\n",
       "      <td>0.0</td>\n",
       "      <td>0.0</td>\n",
       "      <td>...</td>\n",
       "      <td>0.0</td>\n",
       "      <td>0.0</td>\n",
       "      <td>0.0</td>\n",
       "      <td>0.0</td>\n",
       "      <td>0.0</td>\n",
       "      <td>0.0</td>\n",
       "      <td>0.0</td>\n",
       "      <td>0.0</td>\n",
       "      <td>0.0</td>\n",
       "      <td>3</td>\n",
       "    </tr>\n",
       "    <tr>\n",
       "      <th>2</th>\n",
       "      <td>0.0</td>\n",
       "      <td>0.0</td>\n",
       "      <td>0.0</td>\n",
       "      <td>0.0</td>\n",
       "      <td>0.0</td>\n",
       "      <td>0.0</td>\n",
       "      <td>1.0</td>\n",
       "      <td>0.0</td>\n",
       "      <td>0.0</td>\n",
       "      <td>0.0</td>\n",
       "      <td>...</td>\n",
       "      <td>0.0</td>\n",
       "      <td>0.0</td>\n",
       "      <td>0.0</td>\n",
       "      <td>0.0</td>\n",
       "      <td>0.0</td>\n",
       "      <td>0.0</td>\n",
       "      <td>0.0</td>\n",
       "      <td>0.0</td>\n",
       "      <td>0.0</td>\n",
       "      <td>0</td>\n",
       "    </tr>\n",
       "    <tr>\n",
       "      <th>3</th>\n",
       "      <td>0.0</td>\n",
       "      <td>0.0</td>\n",
       "      <td>0.0</td>\n",
       "      <td>0.0</td>\n",
       "      <td>0.0</td>\n",
       "      <td>0.0</td>\n",
       "      <td>1.0</td>\n",
       "      <td>0.0</td>\n",
       "      <td>0.0</td>\n",
       "      <td>0.0</td>\n",
       "      <td>...</td>\n",
       "      <td>0.0</td>\n",
       "      <td>0.0</td>\n",
       "      <td>0.0</td>\n",
       "      <td>0.0</td>\n",
       "      <td>0.0</td>\n",
       "      <td>0.0</td>\n",
       "      <td>0.0</td>\n",
       "      <td>0.0</td>\n",
       "      <td>0.0</td>\n",
       "      <td>0</td>\n",
       "    </tr>\n",
       "    <tr>\n",
       "      <th>4</th>\n",
       "      <td>0.0</td>\n",
       "      <td>0.0</td>\n",
       "      <td>0.0</td>\n",
       "      <td>0.0</td>\n",
       "      <td>0.0</td>\n",
       "      <td>0.0</td>\n",
       "      <td>1.0</td>\n",
       "      <td>0.0</td>\n",
       "      <td>0.0</td>\n",
       "      <td>0.0</td>\n",
       "      <td>...</td>\n",
       "      <td>0.0</td>\n",
       "      <td>0.0</td>\n",
       "      <td>0.0</td>\n",
       "      <td>0.0</td>\n",
       "      <td>0.0</td>\n",
       "      <td>0.0</td>\n",
       "      <td>0.0</td>\n",
       "      <td>0.0</td>\n",
       "      <td>0.0</td>\n",
       "      <td>1</td>\n",
       "    </tr>\n",
       "    <tr>\n",
       "      <th>...</th>\n",
       "      <td>...</td>\n",
       "      <td>...</td>\n",
       "      <td>...</td>\n",
       "      <td>...</td>\n",
       "      <td>...</td>\n",
       "      <td>...</td>\n",
       "      <td>...</td>\n",
       "      <td>...</td>\n",
       "      <td>...</td>\n",
       "      <td>...</td>\n",
       "      <td>...</td>\n",
       "      <td>...</td>\n",
       "      <td>...</td>\n",
       "      <td>...</td>\n",
       "      <td>...</td>\n",
       "      <td>...</td>\n",
       "      <td>...</td>\n",
       "      <td>...</td>\n",
       "      <td>...</td>\n",
       "      <td>...</td>\n",
       "      <td>...</td>\n",
       "    </tr>\n",
       "    <tr>\n",
       "      <th>24995</th>\n",
       "      <td>0.0</td>\n",
       "      <td>0.0</td>\n",
       "      <td>1.0</td>\n",
       "      <td>0.0</td>\n",
       "      <td>0.0</td>\n",
       "      <td>0.0</td>\n",
       "      <td>0.0</td>\n",
       "      <td>0.0</td>\n",
       "      <td>0.0</td>\n",
       "      <td>0.0</td>\n",
       "      <td>...</td>\n",
       "      <td>0.0</td>\n",
       "      <td>0.0</td>\n",
       "      <td>0.0</td>\n",
       "      <td>0.0</td>\n",
       "      <td>0.0</td>\n",
       "      <td>0.0</td>\n",
       "      <td>0.0</td>\n",
       "      <td>0.0</td>\n",
       "      <td>0.0</td>\n",
       "      <td>4</td>\n",
       "    </tr>\n",
       "    <tr>\n",
       "      <th>24996</th>\n",
       "      <td>1.0</td>\n",
       "      <td>0.0</td>\n",
       "      <td>0.0</td>\n",
       "      <td>0.0</td>\n",
       "      <td>0.0</td>\n",
       "      <td>0.0</td>\n",
       "      <td>0.0</td>\n",
       "      <td>0.0</td>\n",
       "      <td>0.0</td>\n",
       "      <td>0.0</td>\n",
       "      <td>...</td>\n",
       "      <td>0.0</td>\n",
       "      <td>0.0</td>\n",
       "      <td>0.0</td>\n",
       "      <td>0.0</td>\n",
       "      <td>0.0</td>\n",
       "      <td>0.0</td>\n",
       "      <td>0.0</td>\n",
       "      <td>0.0</td>\n",
       "      <td>0.0</td>\n",
       "      <td>0</td>\n",
       "    </tr>\n",
       "    <tr>\n",
       "      <th>24997</th>\n",
       "      <td>0.0</td>\n",
       "      <td>0.0</td>\n",
       "      <td>0.0</td>\n",
       "      <td>0.0</td>\n",
       "      <td>1.0</td>\n",
       "      <td>0.0</td>\n",
       "      <td>0.0</td>\n",
       "      <td>0.0</td>\n",
       "      <td>0.0</td>\n",
       "      <td>0.0</td>\n",
       "      <td>...</td>\n",
       "      <td>0.0</td>\n",
       "      <td>0.0</td>\n",
       "      <td>0.0</td>\n",
       "      <td>0.0</td>\n",
       "      <td>0.0</td>\n",
       "      <td>0.0</td>\n",
       "      <td>0.0</td>\n",
       "      <td>0.0</td>\n",
       "      <td>0.0</td>\n",
       "      <td>0</td>\n",
       "    </tr>\n",
       "    <tr>\n",
       "      <th>24998</th>\n",
       "      <td>0.0</td>\n",
       "      <td>0.0</td>\n",
       "      <td>0.0</td>\n",
       "      <td>1.0</td>\n",
       "      <td>0.0</td>\n",
       "      <td>0.0</td>\n",
       "      <td>0.0</td>\n",
       "      <td>0.0</td>\n",
       "      <td>0.0</td>\n",
       "      <td>0.0</td>\n",
       "      <td>...</td>\n",
       "      <td>0.0</td>\n",
       "      <td>0.0</td>\n",
       "      <td>0.0</td>\n",
       "      <td>0.0</td>\n",
       "      <td>0.0</td>\n",
       "      <td>0.0</td>\n",
       "      <td>0.0</td>\n",
       "      <td>0.0</td>\n",
       "      <td>0.0</td>\n",
       "      <td>5</td>\n",
       "    </tr>\n",
       "    <tr>\n",
       "      <th>24999</th>\n",
       "      <td>0.0</td>\n",
       "      <td>0.0</td>\n",
       "      <td>0.0</td>\n",
       "      <td>1.0</td>\n",
       "      <td>0.0</td>\n",
       "      <td>0.0</td>\n",
       "      <td>0.0</td>\n",
       "      <td>0.0</td>\n",
       "      <td>0.0</td>\n",
       "      <td>0.0</td>\n",
       "      <td>...</td>\n",
       "      <td>0.0</td>\n",
       "      <td>0.0</td>\n",
       "      <td>0.0</td>\n",
       "      <td>0.0</td>\n",
       "      <td>0.0</td>\n",
       "      <td>0.0</td>\n",
       "      <td>0.0</td>\n",
       "      <td>0.0</td>\n",
       "      <td>0.0</td>\n",
       "      <td>1</td>\n",
       "    </tr>\n",
       "  </tbody>\n",
       "</table>\n",
       "<p>25000 rows × 199 columns</p>\n",
       "</div>"
      ],
      "text/plain": [
       "       0    1    2    3    4    5    6    7    8    9    ...  189  190  191  \\\n",
       "0      0.0  0.0  0.0  0.0  0.0  0.0  0.0  0.0  1.0  0.0  ...  0.0  0.0  0.0   \n",
       "1      0.0  0.0  0.0  0.0  1.0  0.0  0.0  0.0  0.0  0.0  ...  0.0  0.0  0.0   \n",
       "2      0.0  0.0  0.0  0.0  0.0  0.0  1.0  0.0  0.0  0.0  ...  0.0  0.0  0.0   \n",
       "3      0.0  0.0  0.0  0.0  0.0  0.0  1.0  0.0  0.0  0.0  ...  0.0  0.0  0.0   \n",
       "4      0.0  0.0  0.0  0.0  0.0  0.0  1.0  0.0  0.0  0.0  ...  0.0  0.0  0.0   \n",
       "...    ...  ...  ...  ...  ...  ...  ...  ...  ...  ...  ...  ...  ...  ...   \n",
       "24995  0.0  0.0  1.0  0.0  0.0  0.0  0.0  0.0  0.0  0.0  ...  0.0  0.0  0.0   \n",
       "24996  1.0  0.0  0.0  0.0  0.0  0.0  0.0  0.0  0.0  0.0  ...  0.0  0.0  0.0   \n",
       "24997  0.0  0.0  0.0  0.0  1.0  0.0  0.0  0.0  0.0  0.0  ...  0.0  0.0  0.0   \n",
       "24998  0.0  0.0  0.0  1.0  0.0  0.0  0.0  0.0  0.0  0.0  ...  0.0  0.0  0.0   \n",
       "24999  0.0  0.0  0.0  1.0  0.0  0.0  0.0  0.0  0.0  0.0  ...  0.0  0.0  0.0   \n",
       "\n",
       "       192  193  194  195  196  197  198  \n",
       "0      0.0  0.0  0.0  0.0  0.0  0.0    1  \n",
       "1      0.0  0.0  0.0  0.0  0.0  0.0    3  \n",
       "2      0.0  0.0  0.0  0.0  0.0  0.0    0  \n",
       "3      0.0  0.0  0.0  0.0  0.0  0.0    0  \n",
       "4      0.0  0.0  0.0  0.0  0.0  0.0    1  \n",
       "...    ...  ...  ...  ...  ...  ...  ...  \n",
       "24995  0.0  0.0  0.0  0.0  0.0  0.0    4  \n",
       "24996  0.0  0.0  0.0  0.0  0.0  0.0    0  \n",
       "24997  0.0  0.0  0.0  0.0  0.0  0.0    0  \n",
       "24998  0.0  0.0  0.0  0.0  0.0  0.0    5  \n",
       "24999  0.0  0.0  0.0  0.0  0.0  0.0    1  \n",
       "\n",
       "[25000 rows x 199 columns]"
      ]
     },
     "execution_count": 12,
     "metadata": {},
     "output_type": "execute_result"
    }
   ],
   "source": [
    "sample_df = pd.DataFrame(sample_data)\n",
    "sample_df"
   ]
  },
  {
   "cell_type": "code",
   "execution_count": 13,
   "id": "69ef9e6d",
   "metadata": {},
   "outputs": [],
   "source": [
    "X = sample_df.iloc[:, :-1]\n",
    "y = sample_df.iloc[:, -1]"
   ]
  },
  {
   "cell_type": "code",
   "execution_count": 15,
   "id": "90e0bd93",
   "metadata": {},
   "outputs": [],
   "source": [
    "X_train, X_test, y_train, y_test = train_test_split(X, y, test_size=0.2, random_state=42)"
   ]
  },
  {
   "cell_type": "code",
   "execution_count": 16,
   "id": "0cec1e9a",
   "metadata": {},
   "outputs": [],
   "source": [
    "# define functions we need for cross validation and assessing model accuracy\n",
    "\n",
    "def cross_val(model, k):\n",
    "  \"\"\"\n",
    "  Perform kfold cross validation and print results.\n",
    "  ---\n",
    "  Inputs:\n",
    "  - model: trained classification model\n",
    "  - k: number of splits/iterations\n",
    "  \"\"\"\n",
    "  # kfold cross validation with k splits\n",
    "  cv = KFold(n_splits=k, random_state=1, shuffle=True)\n",
    "  scores = cross_val_score(model, X, y, cv=cv)\n",
    "\n",
    "  # scatterplot of cross validation scores and mean score\n",
    "  x = range(k)\n",
    "  plt.scatter(x, scores)\n",
    "  plt.axhline(y=np.mean(scores), color = 'red')\n",
    "  plt.title('k-fold cross validation results')\n",
    "  plt.xlabel('CV iteration')\n",
    "  plt.ylabel('Accuracy')\n",
    "  plt.ylim([0, 1.1])\n",
    "  print('\\n')\n",
    "  plt.show()\n",
    "  print(\"%0.2f accuracy with a standard deviation of %0.2f\" % (scores.mean(), scores.std()))\n",
    "\n",
    "def metrics(actual, predicted):\n",
    "  \"\"\"\n",
    "  Print classification report and confusion matrix for the results of a classification model.\n",
    "  ---\n",
    "  Inputs:\n",
    "  - actual: list of actual y values\n",
    "  - predicted: list of predicted y values\n",
    "  \"\"\"\n",
    "  print(\"\\nClassification report:\\n\" + classification_report(actual, predicted, zero_division = 0))\n",
    "  print(\"\\nConfusion matrix:\")\n",
    "  cm = confusion_matrix(y_test, log_predicted)\n",
    "  ax = plt.axes()\n",
    "  sns.heatmap(cm, annot=True, annot_kws={\"size\": 7}, fmt='d',cmap=\"Blues\", ax = ax )\n",
    "  ax.set_title('Confusion Matrix')\n",
    "  plt.show()"
   ]
  },
  {
   "cell_type": "code",
   "execution_count": 17,
   "id": "9eb7950b",
   "metadata": {},
   "outputs": [
    {
     "name": "stdout",
     "output_type": "stream",
     "text": [
      "Model: Logistic Regression\n",
      "\n",
      "Classification report:\n",
      "              precision    recall  f1-score   support\n",
      "\n",
      "           0       0.70      0.76      0.73      1793\n",
      "           1       0.41      0.54      0.47      1424\n",
      "           2       0.28      0.11      0.15       655\n",
      "           3       0.29      0.11      0.16       437\n",
      "           4       0.31      0.47      0.37       471\n",
      "           5       0.15      0.04      0.07       141\n",
      "           6       0.00      0.00      0.00        57\n",
      "           7       0.22      0.13      0.17        15\n",
      "           8       0.00      0.00      0.00         4\n",
      "           9       0.00      0.00      0.00         3\n",
      "\n",
      "    accuracy                           0.50      5000\n",
      "   macro avg       0.24      0.22      0.21      5000\n",
      "weighted avg       0.46      0.50      0.47      5000\n",
      "\n",
      "\n",
      "Confusion matrix:\n"
     ]
    },
    {
     "data": {
      "image/png": "[encoded data removed]",
      "text/plain": [
       "<Figure size 432x288 with 2 Axes>"
      ]
     },
     "metadata": {
      "needs_background": "light"
     },
     "output_type": "display_data"
    },
    {
     "name": "stdout",
     "output_type": "stream",
     "text": [
      "\n",
      "\n"
     ]
    },
    {
     "data": {
      "image/png": "[encoded data removed]",
      "text/plain": [
       "<Figure size 432x288 with 1 Axes>"
      ]
     },
     "metadata": {
      "needs_background": "light"
     },
     "output_type": "display_data"
    },
    {
     "name": "stdout",
     "output_type": "stream",
     "text": [
      "0.50 accuracy with a standard deviation of 0.01\n"
     ]
    }
   ],
   "source": [
    "# logistic regression classifier\n",
    "\n",
    "log_classifier = LogisticRegression(random_state = 0, max_iter=3000)\n",
    "log_classifier.fit(X_train, y_train)\n",
    "log_predicted = log_classifier.predict(X_test)\n",
    "\n",
    "print(\"Model: Logistic Regression\")\n",
    "\n",
    "# k = 37 (number of total images) for leave one out cross validation\n",
    "#cross_val(log_classifier, len(images))\n",
    "metrics(y_test, log_predicted)\n",
    "cross_val(log_classifier, 10)"
   ]
  },
  {
   "cell_type": "code",
   "execution_count": 18,
   "id": "4f4e799c",
   "metadata": {},
   "outputs": [
    {
     "name": "stdout",
     "output_type": "stream",
     "text": [
      "Model: Naive Bayes\n",
      "\n",
      "Classification report:\n",
      "              precision    recall  f1-score   support\n",
      "\n",
      "           0       0.57      0.74      0.64      1793\n",
      "           1       0.42      0.22      0.29      1424\n",
      "           2       0.19      0.07      0.10       655\n",
      "           3       0.16      0.05      0.08       437\n",
      "           4       0.19      0.03      0.05       471\n",
      "           5       0.03      0.01      0.02       141\n",
      "           6       0.03      0.25      0.05        57\n",
      "           7       0.00      0.27      0.01        15\n",
      "           8       0.00      0.00      0.00         4\n",
      "           9       0.00      0.00      0.00         3\n",
      "\n",
      "    accuracy                           0.35      5000\n",
      "   macro avg       0.16      0.16      0.12      5000\n",
      "weighted avg       0.38      0.35      0.34      5000\n",
      "\n",
      "\n",
      "Confusion matrix:\n"
     ]
    },
    {
     "data": {
      "image/png": "[encoded data removed]",
      "text/plain": [
       "<Figure size 432x288 with 2 Axes>"
      ]
     },
     "metadata": {
      "needs_background": "light"
     },
     "output_type": "display_data"
    },
    {
     "name": "stdout",
     "output_type": "stream",
     "text": [
      "\n",
      "\n"
     ]
    },
    {
     "data": {
      "image/png": "[encoded data removed]",
      "text/plain": [
       "<Figure size 432x288 with 1 Axes>"
      ]
     },
     "metadata": {
      "needs_background": "light"
     },
     "output_type": "display_data"
    },
    {
     "name": "stdout",
     "output_type": "stream",
     "text": [
      "0.32 accuracy with a standard deviation of 0.01\n"
     ]
    }
   ],
   "source": [
    "# naive bayes\n",
    "\n",
    "nb = GaussianNB()\n",
    "nb_predicted = nb.fit(X_train, y_train).predict(X_test)\n",
    "\n",
    "print(\"Model: Naive Bayes\")\n",
    "metrics(y_test, nb_predicted)\n",
    "cross_val(nb, 10)"
   ]
  },
  {
   "cell_type": "code",
   "execution_count": 21,
   "id": "e92a9dc1",
   "metadata": {},
   "outputs": [
    {
     "name": "stdout",
     "output_type": "stream",
     "text": [
      "Model: Random Forest\n",
      "\n",
      "Classification report:\n",
      "              precision    recall  f1-score   support\n",
      "\n",
      "           0       0.37      1.00      0.53      1793\n",
      "           1       0.15      0.01      0.02      1424\n",
      "           2       0.00      0.00      0.00       655\n",
      "           3       0.00      0.00      0.00       437\n",
      "           4       0.00      0.00      0.00       471\n",
      "           5       0.00      0.00      0.00       141\n",
      "           6       0.00      0.00      0.00        57\n",
      "           7       0.00      0.00      0.00        15\n",
      "           8       0.00      0.00      0.00         4\n",
      "           9       0.00      0.00      0.00         3\n",
      "\n",
      "    accuracy                           0.36      5000\n",
      "   macro avg       0.05      0.10      0.06      5000\n",
      "weighted avg       0.17      0.36      0.20      5000\n",
      "\n",
      "\n",
      "Confusion matrix:\n"
     ]
    },
    {
     "data": {
      "image/png": "[encoded data removed]",
      "text/plain": [
       "<Figure size 432x288 with 2 Axes>"
      ]
     },
     "metadata": {
      "needs_background": "light"
     },
     "output_type": "display_data"
    },
    {
     "name": "stdout",
     "output_type": "stream",
     "text": [
      "\n",
      "\n"
     ]
    },
    {
     "data": {
      "image/png": "[encoded data removed]",
      "text/plain": [
       "<Figure size 432x288 with 1 Axes>"
      ]
     },
     "metadata": {
      "needs_background": "light"
     },
     "output_type": "display_data"
    },
    {
     "name": "stdout",
     "output_type": "stream",
     "text": [
      "0.36 accuracy with a standard deviation of 0.01\n"
     ]
    }
   ],
   "source": [
    "rf = RandomForestClassifier(max_depth=2, random_state=0)\n",
    "rf_predicted = rf.fit(X_train, y_train).predict(X_test)\n",
    "\n",
    "print(\"Model: Random Forest\")\n",
    "metrics(y_test, rf_predicted)\n",
    "cross_val(rf, 10)"
   ]
  },
  {
   "cell_type": "code",
   "execution_count": 23,
   "id": "cd278324",
   "metadata": {},
   "outputs": [
    {
     "name": "stdout",
     "output_type": "stream",
     "text": [
      "Model: XGBoost\n",
      "\n",
      "Classification report:\n",
      "              precision    recall  f1-score   support\n",
      "\n",
      "           0       0.69      0.77      0.73      1793\n",
      "           1       0.38      0.58      0.46      1424\n",
      "           2       0.30      0.07      0.11       655\n",
      "           3       0.38      0.09      0.14       437\n",
      "           4       0.33      0.38      0.35       471\n",
      "           5       0.25      0.07      0.11       141\n",
      "           6       0.00      0.00      0.00        57\n",
      "           7       0.25      0.13      0.17        15\n",
      "           8       0.00      0.00      0.00         4\n",
      "           9       0.00      0.00      0.00         3\n",
      "\n",
      "    accuracy                           0.50      5000\n",
      "   macro avg       0.26      0.21      0.21      5000\n",
      "weighted avg       0.47      0.50      0.46      5000\n",
      "\n",
      "\n",
      "Confusion matrix:\n"
     ]
    },
    {
     "data": {
      "image/png": "[encoded data removed]",
      "text/plain": [
       "<Figure size 432x288 with 2 Axes>"
      ]
     },
     "metadata": {
      "needs_background": "light"
     },
     "output_type": "display_data"
    }
   ],
   "source": [
    "xgboost = HistGradientBoostingClassifier()\n",
    "xgboost_predicted = xgboost.fit(X_train, y_train).predict(X_test)\n",
    "\n",
    "print(\"Model: XGBoost\")\n",
    "metrics(y_test, xgboost_predicted)\n",
    "#cross_val(xgboost, 10)"
   ]
  },
  {
   "cell_type": "code",
   "execution_count": null,
   "id": "61cfbaa8",
   "metadata": {},
   "outputs": [],
   "source": []
  }
 ],
 "metadata": {
  "kernelspec": {
   "display_name": "Python 3",
   "language": "python",
   "name": "python3"
  },
  "language_info": {
   "codemirror_mode": {
    "name": "ipython",
    "version": 3
   },
   "file_extension": ".py",
   "mimetype": "text/x-python",
   "name": "python",
   "nbconvert_exporter": "python",
   "pygments_lexer": "ipython3",
   "version": "3.8.8"
  }
 },
 "nbformat": 4,
 "nbformat_minor": 5
}
